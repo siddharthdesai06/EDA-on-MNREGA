{
 "cells": [
  {
   "cell_type": "code",
   "execution_count": null,
   "id": "be0119e3",
   "metadata": {},
   "outputs": [],
   "source": [
    "import pandas as pd\n",
    "import numpy as np\n",
    "\n",
    "import matplotlib.pyplot as plt\n",
    "import plotly.express as px\n",
    "import seaborn as sns\n",
    "import geopandas as gpd\n",
    "\n",
    "from sklearn.cluster import KMeans\n",
    "from sklearn.metrics import silhouette_score\n",
    "from sklearn.decomposition import PCA\n",
    "from sklearn.preprocessing import StandardScaler\n",
    "\n",
    "import json\n"
   ]
  },
  {
   "cell_type": "code",
   "execution_count": null,
   "id": "26e2d72c",
   "metadata": {},
   "outputs": [],
   "source": [
    "df = pd.read_csv(\"mnrega_clean.csv\")\n"
   ]
  },
  {
   "cell_type": "code",
   "execution_count": null,
   "id": "43312da8",
   "metadata": {},
   "outputs": [],
   "source": [
    "df"
   ]
  },
  {
   "cell_type": "code",
   "execution_count": null,
   "id": "7c3764fc",
   "metadata": {},
   "outputs": [],
   "source": [
    "df.head(5)"
   ]
  },
  {
   "cell_type": "code",
   "execution_count": null,
   "id": "faf41374",
   "metadata": {},
   "outputs": [],
   "source": [
    "df.isna().sum()"
   ]
  },
  {
   "cell_type": "markdown",
   "id": "1d972562",
   "metadata": {},
   "source": [
    "#### If any of the plots are not visible(no output), Kindly restart the kernel and then run all cells"
   ]
  },
  {
   "cell_type": "markdown",
   "id": "bb9626df",
   "metadata": {},
   "source": [
    "## Descriptive Analysis"
   ]
  },
  {
   "cell_type": "code",
   "execution_count": null,
   "id": "358e8a3b",
   "metadata": {},
   "outputs": [],
   "source": [
    "import matplotlib.pyplot as plt\n",
    "\n",
    "# Group the data by state and calculate the total households that applied for a job card for each state\n",
    "state_data = df.groupby('State')['Households that applied for a job card'].sum().reset_index()\n",
    "state_data = state_data.sort_values(by='Households that applied for a job card', ascending=False)\n",
    "\n",
    "# Create a 2D bar plot\n",
    "plt.figure(figsize=(10, 6))\n",
    "plt.bar(state_data['State'], state_data['Households that applied for a job card'])\n",
    "plt.title('Distribution of Households that Applied for a Job Card by State')\n",
    "plt.xlabel('State')\n",
    "plt.ylabel('Households that applied for a job card')\n",
    "plt.xticks(rotation=45, ha='right')  # Adjust rotation for better visibility\n",
    "plt.show()\n",
    "\n"
   ]
  },
  {
   "cell_type": "markdown",
   "id": "ceadcb84",
   "metadata": {},
   "source": [
    "#### Job card issued over the years all over India"
   ]
  },
  {
   "cell_type": "code",
   "execution_count": null,
   "id": "549603f4",
   "metadata": {},
   "outputs": [],
   "source": [
    "import matplotlib.pyplot as plt\n",
    "\n",
    "# Group the data by year code and sum the job cards issued for each year\n",
    "yearly_data = df.groupby('Yearcode')['Job cards issued'].sum().reset_index()\n",
    "\n",
    "# Create a line plot\n",
    "plt.figure(figsize=(10, 6))\n",
    "plt.plot(yearly_data['Yearcode'], yearly_data['Job cards issued'], marker='o')\n",
    "plt.title('Job Cards Issued in India Over the Years')\n",
    "plt.xlabel('Year')\n",
    "plt.ylabel('No. of Job Cards Issued')\n",
    "plt.grid(True)\n",
    "plt.show()\n"
   ]
  },
  {
   "cell_type": "code",
   "execution_count": null,
   "id": "564b1202",
   "metadata": {},
   "outputs": [],
   "source": [
    "import sweetviz as sv\n",
    "\n",
    "report = sv.analyze(df)\n",
    "report.show_notebook()"
   ]
  },
  {
   "cell_type": "markdown",
   "id": "ecc673eb",
   "metadata": {},
   "source": [
    "#### Total Job Cards Issued Over the Years in J & K\n"
   ]
  },
  {
   "cell_type": "code",
   "execution_count": null,
   "id": "724dd117",
   "metadata": {},
   "outputs": [],
   "source": [
    "selected_state = 'Jammu And Kashmir'\n",
    "\n",
    "# Filter the data for the selected state\n",
    "state_data = df[df['State'] == selected_state]\n",
    "\n",
    "# Group the filtered data by year and calculate the total job cards issued for each year\n",
    "yearly_job_cards_issued = state_data.groupby('Yearcode')['Job cards issued'].sum().reset_index()\n",
    "\n",
    "\n",
    "plt.figure(figsize=(10, 6))\n",
    "plt.bar(yearly_job_cards_issued['Yearcode'], yearly_job_cards_issued['Job cards issued'])\n",
    "plt.title(f'Total Job Cards Issued Over the Years in {selected_state}')\n",
    "plt.xlabel('Year')\n",
    "plt.ylabel('Total Job Cards Issued')\n",
    "plt.xticks(yearly_job_cards_issued['Yearcode'], [str(year) for year in yearly_job_cards_issued['Yearcode']])\n",
    "plt.show()\n"
   ]
  },
  {
   "cell_type": "markdown",
   "id": "1ad0e740",
   "metadata": {},
   "source": [
    "#### Total Job Cards Issued Over the Years in Uttar Pradesh"
   ]
  },
  {
   "cell_type": "code",
   "execution_count": null,
   "id": "329b9018",
   "metadata": {},
   "outputs": [],
   "source": [
    "selected_state = 'Uttar Pradesh'\n",
    "state_data = df[df['State'] == selected_state]\n",
    "\n",
    "# Group the filtered data by year\n",
    "yearly_job_cards_issued = state_data.groupby('Yearcode')['Job cards issued'].sum().reset_index()\n",
    "\n",
    "plt.figure(figsize=(10, 6))\n",
    "plt.bar(yearly_job_cards_issued['Yearcode'], yearly_job_cards_issued['Job cards issued'])\n",
    "plt.title(f'Total Job Cards Issued Over the Years in {selected_state}')\n",
    "plt.xlabel('Year')\n",
    "plt.ylabel('Total Job Cards Issued')\n",
    "plt.xticks(yearly_job_cards_issued['Yearcode'], [str(year) for year in yearly_job_cards_issued['Yearcode']])\n",
    "plt.show()\n"
   ]
  },
  {
   "cell_type": "code",
   "execution_count": null,
   "id": "444efb7b",
   "metadata": {},
   "outputs": [],
   "source": []
  },
  {
   "cell_type": "markdown",
   "id": "52aa6fea",
   "metadata": {},
   "source": [
    "#### Total Job Cards Issued Over the Years in Bihar"
   ]
  },
  {
   "cell_type": "code",
   "execution_count": null,
   "id": "4b131778",
   "metadata": {},
   "outputs": [],
   "source": [
    "selected_state = 'Bihar' \n",
    "state_data = df[df['State'] == selected_state]\n",
    "\n",
    "yearly_job_cards_issued = state_data.groupby('Yearcode')['Job cards issued'].sum().reset_index()\n",
    "\n",
    "\n",
    "\n",
    "plt.figure(figsize=(10, 6))\n",
    "plt.bar(yearly_job_cards_issued['Yearcode'], yearly_job_cards_issued['Job cards issued'])\n",
    "plt.title(f'Total Job Cards Issued Over the Years in {selected_state}')\n",
    "plt.xlabel('Year')\n",
    "plt.ylabel('Total Job Cards Issued')\n",
    "plt.xticks(yearly_job_cards_issued['Yearcode'], [str(year) for year in yearly_job_cards_issued['Yearcode']])\n",
    "plt.show()"
   ]
  },
  {
   "cell_type": "markdown",
   "id": "3282a765",
   "metadata": {},
   "source": [
    "#### Job card applied vs issued in a particular state"
   ]
  },
  {
   "cell_type": "code",
   "execution_count": null,
   "id": "6fd88e2c",
   "metadata": {},
   "outputs": [],
   "source": [
    "state_data = df.groupby('State')[['Households that applied for a job card', 'Job cards issued']].sum().reset_index()\n",
    "\n",
    "\n",
    "melted_state_data = pd.melt(state_data, id_vars='State', var_name='Metric', value_name='Count')\n",
    "melted_state_data = melted_state_data.sort_values(by='Count', ascending=False)\n",
    "\n",
    "color_mapping = {'Households that applied for a job card': 'brown', 'Job cards issued': 'lightgreen'}\n",
    "\n",
    "\n",
    "plt.figure(figsize=(12, 8))\n",
    "sns.barplot(x='State', y='Count', hue='Metric', data=melted_state_data, palette=color_mapping.values())\n",
    "plt.title('Households that Applied vs Job Cards Issued by State')\n",
    "plt.xlabel('State')\n",
    "plt.ylabel('Count')\n",
    "plt.xticks(rotation=-45, ha='left')\n",
    "plt.legend(title='Metric')\n",
    "plt.show()"
   ]
  },
  {
   "cell_type": "code",
   "execution_count": null,
   "id": "386638ff",
   "metadata": {},
   "outputs": [],
   "source": [
    "# Calculate the total person days worked by women for each year\n",
    "woman_work_by_year = df.groupby('Yearcode')['Total person days worked by women'].sum().reset_index()\n",
    "\n",
    "# Calculate the growth by comparing with the previous year\n",
    "woman_work_by_year['Growth'] = woman_work_by_year['Total person days worked by women'].diff()\n",
    "woman_work_by_year['Growth'].iloc[0] = 0 \n",
    "\n",
    "# Create a line plot to visualize the data\n",
    "plt.figure(figsize=(12, 6))\n",
    "plt.plot(woman_work_by_year['Yearcode'], woman_work_by_year['Total person days worked by women'], marker='o', label='Total Person Days Worked by Women')\n",
    "plt.plot(woman_work_by_year['Yearcode'], woman_work_by_year['Growth'], marker='o', label='Growth')\n",
    "plt.xlabel('Year')\n",
    "plt.ylabel('Total Person Days Worked / Growth')\n",
    "plt.title('Total Person Days Worked by Women and Growth Over the Years')\n",
    "plt.legend()\n",
    "plt.grid(True)\n",
    "\n",
    "plt.show()\n"
   ]
  },
  {
   "cell_type": "code",
   "execution_count": null,
   "id": "c91f50cf",
   "metadata": {},
   "outputs": [],
   "source": [
    "\n"
   ]
  },
  {
   "cell_type": "code",
   "execution_count": null,
   "id": "b939d4ad",
   "metadata": {},
   "outputs": [],
   "source": [
    "data = df\n",
    "\n",
    "# Select the features you want to include in the scatter plot\n",
    "features_to_plot = [\n",
    "       'Households that applied for a job card', 'Job cards issued',\n",
    "       'Job cards issued for scheduled caste',\n",
    "       'Job cards issued for scheduled tribes',\n",
    "       'Job cards issued for non scheduled tribes or scheduled caste',\n",
    "       'Households that demanded work', 'Persons who demanded work',\n",
    "       'Households that were allotted work', 'Persons that were allotted work',\n",
    "       'Muster rolls filled',\n",
    "       'Households that worked under mahatma gandhi national rural employment guarantee act (mgnrega)',\n",
    "       'Persons that worked under mahatma gandhi national rural employment guarantee act (mgnrega)',\n",
    "       'Households that reached a 100 day limit', 'Persons with disability',\n",
    "       'Non scheduled tribes or scheduled caste houeholds that worked',\n",
    "       'Total person days worked by non scheduled tribes or scheduled caste persons.',\n",
    "       'Scheduled caste houeholds that worked',\n",
    "       'Total person days worked scheduled caste persons',\n",
    "       'Scheduled tribe houeholds that worked',\n",
    "       'Total person days worked scheduled tribe persons',\n",
    "       'Households that worked on land reform or indira awas yojana',\n",
    "        'Scheduled caste households that reached a 100 day limit',\n",
    "       'Scheduled tribe households that reached a 100 day limit',\n",
    "       'Labour expenditure that has been disbursed',\n",
    "       'Material expenditure that has been disbursed',\n",
    "       'Labour expenditure both disbursed and pending',\n",
    "\n",
    "]\n",
    "\n",
    "print(len(features_to_plot))\n",
    "\n",
    "fig = px.scatter(data, x=data.index, y=features_to_plot, labels={'x': 'Data Points'},\n",
    "                 title='Interactive Scatter Plot for Ten Different Features')\n",
    "\n",
    "fig.update_layout(showlegend=True)\n",
    "\n",
    "fig.show()"
   ]
  },
  {
   "cell_type": "markdown",
   "id": "2f26778f",
   "metadata": {},
   "source": [
    "#### Checking Distribution of data"
   ]
  },
  {
   "cell_type": "code",
   "execution_count": null,
   "id": "dfc6d1e1",
   "metadata": {},
   "outputs": [],
   "source": [
    "for column in df.columns:\n",
    "    plt.figure()\n",
    "    plt.hist(df[column], bins=10, edgecolor='k')\n",
    "    plt.title(f'Histogram of {column}')\n",
    "    plt.xlabel(column)\n",
    "    plt.ylabel('Frequency')\n",
    "\n",
    "plt.show()\n"
   ]
  },
  {
   "cell_type": "markdown",
   "id": "7a5203d9",
   "metadata": {},
   "source": [
    "#### Heatmap"
   ]
  },
  {
   "cell_type": "code",
   "execution_count": null,
   "id": "7e6fa250",
   "metadata": {},
   "outputs": [],
   "source": [
    "# Please run the below cells to see the output\n",
    "\n",
    "india_states = json.load(open(\"states_india.geojson\",'r'))"
   ]
  },
  {
   "cell_type": "code",
   "execution_count": null,
   "id": "07f5ae8e",
   "metadata": {},
   "outputs": [],
   "source": [
    "india_states['features'][0]"
   ]
  },
  {
   "cell_type": "code",
   "execution_count": null,
   "id": "32ac37de",
   "metadata": {},
   "outputs": [],
   "source": [
    "state_id_map = {}\n",
    "for feature in india_states[\"features\"]:\n",
    "    feature[\"id\"] = feature[\"properties\"][\"state_code\"]\n",
    "    state_id_map[feature[\"properties\"][\"st_nm\"]] = feature[\"id\"]"
   ]
  },
  {
   "cell_type": "code",
   "execution_count": null,
   "id": "457f1353",
   "metadata": {},
   "outputs": [],
   "source": [
    "state_id_map"
   ]
  },
  {
   "cell_type": "code",
   "execution_count": null,
   "id": "cc777bd4",
   "metadata": {},
   "outputs": [],
   "source": [
    "df['State'] = df['State'].str.replace('Jammu And Kashmir', 'Jammu & Kashmir')\n",
    "df['State'] = df['State'].str.replace('The Dadra And Nagar Haveli And Daman And Diu', 'Dadara & Nagar Havelli')\n",
    "df['State'] = df['State'].str.replace('Arunachal Pradesh', 'Arunanchal Pradesh')\n",
    "df['State'] = df['State'].str.replace('Andaman And Nicobar Islands', 'Andaman & Nicobar Island')\n",
    "df['State'] = df['State'].str.replace('Ladakh', 'Jammu & Kashmir')"
   ]
  },
  {
   "cell_type": "code",
   "execution_count": null,
   "id": "ddf00dd8",
   "metadata": {},
   "outputs": [],
   "source": [
    "df[\"id\"] = df[\"State\"].apply(lambda x: state_id_map[x])\n"
   ]
  },
  {
   "cell_type": "code",
   "execution_count": null,
   "id": "bceb86f3",
   "metadata": {},
   "outputs": [],
   "source": [
    "# import plotly.io as pio\n",
    "# pio.renderers.default = 'browser'\n"
   ]
  },
  {
   "cell_type": "markdown",
   "id": "b053132c",
   "metadata": {},
   "source": [
    "#### Job cards issued in states"
   ]
  },
  {
   "cell_type": "code",
   "execution_count": null,
   "id": "fc949a0e",
   "metadata": {},
   "outputs": [],
   "source": [
    "fig = px.choropleth(\n",
    "    df,\n",
    "    locations=\"id\",\n",
    "    geojson=india_states,\n",
    "    color=\"Job cards issued\",\n",
    "    hover_name=\"State\",\n",
    "    hover_data=[\"Job cards issued\"],\n",
    "    title=\"Job Cards Issued\",\n",
    ")\n",
    "fig.update_geos(fitbounds=\"locations\", visible=False)\n",
    "fig.show()"
   ]
  },
  {
   "cell_type": "markdown",
   "id": "0a621942",
   "metadata": {},
   "source": [
    "#### Job cards issued for SC"
   ]
  },
  {
   "cell_type": "code",
   "execution_count": null,
   "id": "e23cbe7a",
   "metadata": {},
   "outputs": [],
   "source": [
    "fig = px.choropleth(\n",
    "    df,\n",
    "    locations=\"id\",\n",
    "    geojson=india_states,\n",
    "    color=\"Job cards issued for scheduled caste\",\n",
    "    hover_name=\"State\",\n",
    "    hover_data=[\"Job cards issued for scheduled caste\"],\n",
    "    title=\"Job cards issued for scheduled caste\",\n",
    ")\n",
    "fig.update_geos(fitbounds=\"locations\", visible=False)\n",
    "fig.show()"
   ]
  },
  {
   "cell_type": "markdown",
   "id": "9c82854a",
   "metadata": {},
   "source": [
    "#### Job cards issued for ST"
   ]
  },
  {
   "cell_type": "code",
   "execution_count": null,
   "id": "f41f96be",
   "metadata": {},
   "outputs": [],
   "source": [
    "fig = px.choropleth(\n",
    "    df,\n",
    "    locations=\"id\",\n",
    "    geojson=india_states,\n",
    "    color=\"Job cards issued for scheduled tribes\",\n",
    "    hover_name=\"State\",\n",
    "    hover_data=[\"Job cards issued for scheduled tribes\"],\n",
    "    title=\"Job cards issued for scheduled tribes\",\n",
    ")\n",
    "fig.update_geos(fitbounds=\"locations\", visible=False)\n",
    "fig.show()"
   ]
  },
  {
   "cell_type": "code",
   "execution_count": null,
   "id": "059b9629",
   "metadata": {},
   "outputs": [],
   "source": []
  }
 ],
 "metadata": {
  "kernelspec": {
   "display_name": "Python 3 (ipykernel)",
   "language": "python",
   "name": "python3"
  },
  "language_info": {
   "codemirror_mode": {
    "name": "ipython",
    "version": 3
   },
   "file_extension": ".py",
   "mimetype": "text/x-python",
   "name": "python",
   "nbconvert_exporter": "python",
   "pygments_lexer": "ipython3",
   "version": "3.9.13"
  }
 },
 "nbformat": 4,
 "nbformat_minor": 5
}
