{
 "cells": [
  {
   "cell_type": "code",
   "execution_count": null,
   "id": "b6b767ff",
   "metadata": {},
   "outputs": [],
   "source": [
    "import pandas as pd\n",
    "import numpy as np\n",
    "\n",
    "import matplotlib.pyplot as plt\n",
    "import plotly.express as px\n",
    "import seaborn as sns\n",
    "import geopandas as gpd\n",
    "\n",
    "from sklearn.cluster import KMeans\n",
    "from sklearn.metrics import silhouette_score\n",
    "from sklearn.decomposition import PCA\n",
    "from sklearn.preprocessing import StandardScaler\n",
    "from sklearn.preprocessing import LabelEncoder\n",
    "from sklearn.preprocessing import MinMaxScaler\n",
    "\n",
    "from scipy import stats\n",
    "\n",
    "\n",
    "from sklearn.cluster import KMeans\n",
    "from sklearn.cluster import SpectralClustering\n",
    "from sklearn.cluster import AgglomerativeClustering\n",
    "from sklearn.cluster import DBSCAN\n",
    "from scipy.cluster.hierarchy import dendrogram, linkage"
   ]
  },
  {
   "cell_type": "code",
   "execution_count": null,
   "id": "0a7fc3b2",
   "metadata": {},
   "outputs": [],
   "source": [
    "df = pd.read_csv(\"mnrega_clean.csv\")"
   ]
  },
  {
   "cell_type": "code",
   "execution_count": null,
   "id": "e68b29ff",
   "metadata": {},
   "outputs": [],
   "source": [
    "df"
   ]
  },
  {
   "cell_type": "code",
   "execution_count": null,
   "id": "cc4a8b9b",
   "metadata": {},
   "outputs": [],
   "source": [
    "df.columns"
   ]
  },
  {
   "cell_type": "code",
   "execution_count": null,
   "id": "5cab8600",
   "metadata": {},
   "outputs": [],
   "source": [
    "features = ['Households that applied for a job card', 'Job cards issued',\n",
    "       'Job cards issued for scheduled caste',\n",
    "       'Job cards issued for scheduled tribes',\n",
    "       'Job cards issued for non scheduled tribes or scheduled caste',\n",
    "       'Households that demanded work', 'Persons who demanded work',\n",
    "       'Households that were allotted work', 'Persons that were allotted work',\n",
    "       'Muster rolls filled',\n",
    "       'Households that worked under mahatma gandhi national rural employment guarantee act (mgnrega)',\n",
    "       'Persons that worked under mahatma gandhi national rural employment guarantee act (mgnrega)',\n",
    "       'Households that reached a 100 day limit', 'Persons with disability',\n",
    "       'Non scheduled tribes or scheduled caste houeholds that worked',\n",
    "       'Total person days worked by non scheduled tribes or scheduled caste persons.',\n",
    "       'Scheduled caste houeholds that worked',\n",
    "       'Total person days worked scheduled caste persons',\n",
    "       'Scheduled tribe houeholds that worked',\n",
    "       'Total person days worked scheduled tribe persons',\n",
    "       'Households that worked on land reform or indira awas yojana',\n",
    "       'Total person days worked by women', 'Total person days',\n",
    "       'Scheduled caste households that reached a 100 day limit',\n",
    "       'Scheduled tribe households that reached a 100 day limit',\n",
    "       'Labour expenditure that has been disbursed',\n",
    "       'Material expenditure that has been disbursed',\n",
    "       'Labour expenditure both disbursed and pending',\n",
    "       'Material expenditure both disbursed and pending', 'Amount sanctioned',\n",
    "       'Works under mahatma gandhi national rural employment guarantee act (mgnrega)',\n",
    "       'Total bank accounts', 'Individual bank accounts',\n",
    "       'Joint bank accounts', 'Amount disbursed to bank accounts',\n",
    "       'Post office accounts', 'Individual post office accounts',\n",
    "       'Joint post office accounts',\n",
    "       'Amount disbursed to post office accounts']\n",
    "\n",
    "data = df[features]\n",
    "\n",
    "# Standardize the data\n",
    "scaler = StandardScaler()\n",
    "scaled_data = scaler.fit_transform(data)\n",
    "\n",
    "# Apply PCA to calculate explained variance\n",
    "pca = PCA()\n",
    "pca.fit(scaled_data)\n",
    "\n",
    "# Calculate the explained variance ratio for each principal component\n",
    "explained_variance_ratio = pca.explained_variance_ratio_\n",
    "\n",
    "# Plot the explained variance ratio\n",
    "plt.figure(figsize=(8, 6))\n",
    "plt.plot(range(1, len(explained_variance_ratio) + 1), np.cumsum(explained_variance_ratio), marker='o', linestyle='-', color='b')\n",
    "plt.xlabel('Number of Principal Components')\n",
    "plt.ylabel('Explained Variance Ratio')\n",
    "plt.title('Explained Variance vs. Number of Principal Components')\n",
    "plt.grid(True)\n",
    "\n",
    "# Show the plot\n",
    "plt.show()"
   ]
  },
  {
   "cell_type": "code",
   "execution_count": null,
   "id": "980000ff",
   "metadata": {},
   "outputs": [],
   "source": [
    "n_components = 3  # You can adjust the number of components\n",
    "pca = PCA(n_components=n_components)\n",
    "pca_data = pca.fit_transform(scaled_data)\n",
    "\n",
    "explained_variance_ratio = pca.explained_variance_ratio_\n",
    "print(\"Explained Variance Ratios:\", explained_variance_ratio)\n",
    "\n",
    "\n",
    "\n",
    "pca_column_names = [f'PC{i+1}' for i in range(n_components)]\n",
    "pca_df = pd.DataFrame(data=pca_data, columns=pca_column_names)\n"
   ]
  },
  {
   "cell_type": "code",
   "execution_count": null,
   "id": "5f6bf658",
   "metadata": {},
   "outputs": [],
   "source": [
    "\n",
    "# Select the features for dimensionality reduction\n",
    "features = [\n",
    "       'Households that applied for a job card', 'Job cards issued',\n",
    "       'Job cards issued for scheduled caste',\n",
    "       'Job cards issued for scheduled tribes',\n",
    "       'Job cards issued for non scheduled tribes or scheduled caste',\n",
    "       'Households that demanded work', 'Persons who demanded work',\n",
    "       'Households that were allotted work', 'Persons that were allotted work',\n",
    "       'Households that reached a 100 day limit',\n",
    "       'Non scheduled tribes or scheduled caste houeholds that worked',\n",
    "       'Total person days worked by non scheduled tribes or scheduled caste persons.',\n",
    "       'Scheduled caste houeholds that worked',\n",
    "       'Total person days worked scheduled caste persons',\n",
    "       'Scheduled tribe houeholds that worked',\n",
    "       'Total person days worked scheduled tribe persons',\n",
    "       'Households that worked on land reform or indira awas yojana',\n",
    "]\n",
    "data = df[features]\n",
    "\n",
    "# Standardize the data\n",
    "scaler = StandardScaler()\n",
    "scaled_data = scaler.fit_transform(data)\n",
    "\n",
    "# Apply PCA to reduce dimensionality\n",
    "n_components = 3  # You can adjust the number of components\n",
    "pca = PCA(n_components=n_components)\n",
    "pca_data = pca.fit_transform(scaled_data)\n",
    "\n",
    "explained_variance_ratio = pca.explained_variance_ratio_\n",
    "print(\"Explained Variance Ratios:\", explained_variance_ratio)\n",
    "\n",
    "\n",
    "\n",
    "pca_column_names = [f'PC{i+1}' for i in range(n_components)]\n",
    "pca_df = pd.DataFrame(data=pca_data, columns=pca_column_names)\n"
   ]
  },
  {
   "cell_type": "code",
   "execution_count": null,
   "id": "2baf1531",
   "metadata": {},
   "outputs": [],
   "source": [
    "features = [\n",
    "       'Households that applied for a job card', 'Job cards issued',\n",
    "       'Job cards issued for scheduled caste',\n",
    "       'Job cards issued for scheduled tribes',\n",
    "       'Job cards issued for non scheduled tribes or scheduled caste',\n",
    "       'Households that demanded work', 'Persons who demanded work',\n",
    "       'Households that were allotted work', 'Persons that were allotted work',\n",
    "       'Households that reached a 100 day limit',\n",
    "       'Non scheduled tribes or scheduled caste houeholds that worked',\n",
    "       'Total person days worked by non scheduled tribes or scheduled caste persons.',\n",
    "       'Scheduled caste houeholds that worked',\n",
    "       'Total person days worked scheduled caste persons',\n",
    "       'Scheduled tribe houeholds that worked',\n",
    "       'Total person days worked scheduled tribe persons',\n",
    "       'Households that worked on land reform or indira awas yojana',\n",
    "]\n",
    "data = df[features]\n",
    "\n",
    "# Standardize the data\n",
    "scaler = StandardScaler()\n",
    "scaled_data = scaler.fit_transform(data)\n",
    "\n",
    "# Apply PCA to calculate explained variance\n",
    "pca = PCA()\n",
    "pca.fit(scaled_data)\n",
    "\n",
    "# Calculate the explained variance ratio for each principal component\n",
    "explained_variance_ratio = pca.explained_variance_ratio_\n",
    "\n",
    "# Plot the explained variance ratio\n",
    "plt.figure(figsize=(8, 6))\n",
    "plt.plot(range(1, len(explained_variance_ratio) + 1), np.cumsum(explained_variance_ratio), marker='o', linestyle='-', color='b')\n",
    "plt.xlabel('Number of Principal Components')\n",
    "plt.ylabel('Explained Variance Ratio')\n",
    "plt.title('Explained Variance vs. Number of Principal Components')\n",
    "plt.grid(True)\n",
    "\n",
    "# Show the plot\n",
    "plt.show()\n"
   ]
  },
  {
   "cell_type": "code",
   "execution_count": null,
   "id": "e4f353b5",
   "metadata": {},
   "outputs": [],
   "source": [
    "pca_df"
   ]
  },
  {
   "cell_type": "code",
   "execution_count": null,
   "id": "7a65a677",
   "metadata": {},
   "outputs": [],
   "source": [
    "state_label= df.loc[:, df.columns == 'State']\n",
    "state_label"
   ]
  },
  {
   "cell_type": "code",
   "execution_count": null,
   "id": "f009e600",
   "metadata": {},
   "outputs": [],
   "source": [
    "merged_df = pca_df.merge(state_label, left_index=True, right_index=True)\n",
    "merged_df"
   ]
  },
  {
   "cell_type": "code",
   "execution_count": null,
   "id": "aa6fea08",
   "metadata": {},
   "outputs": [],
   "source": [
    "label_encoder = LabelEncoder()\n",
    "\n",
    "# Encode the 'State' column\n",
    "merged_df['State_Label'] = label_encoder.fit_transform(merged_df['State'])\n",
    "merged_df"
   ]
  },
  {
   "cell_type": "code",
   "execution_count": null,
   "id": "801b5a91",
   "metadata": {},
   "outputs": [],
   "source": [
    "\n",
    "# Now, you can create a scatter plot with the merged DataFrame\n",
    "plt.figure(figsize=(10, 6))\n",
    "plt.scatter(merged_df['PC1'], merged_df['PC2'], c=merged_df['State_Label'], cmap='viridis')\n",
    "plt.title('PCA Plot by State')\n",
    "plt.xlabel('Principal Component 1 (PC1)')\n",
    "plt.ylabel('Principal Component 2 (PC2)')\n",
    "plt.show()\n"
   ]
  },
  {
   "cell_type": "markdown",
   "id": "f8b9bf58",
   "metadata": {},
   "source": [
    "#### Using min max scaling"
   ]
  },
  {
   "cell_type": "code",
   "execution_count": null,
   "id": "bbd2fa32",
   "metadata": {},
   "outputs": [],
   "source": [
    "features = [\n",
    "       'Households that applied for a job card', 'Job cards issued',\n",
    "       'Job cards issued for scheduled caste',\n",
    "       'Job cards issued for scheduled tribes',\n",
    "       'Job cards issued for non scheduled tribes or scheduled caste',\n",
    "       'Households that demanded work', 'Persons who demanded work',\n",
    "       'Households that were allotted work', 'Persons that were allotted work',\n",
    "       'Households that reached a 100 day limit',\n",
    "       'Non scheduled tribes or scheduled caste houeholds that worked',\n",
    "       'Total person days worked by non scheduled tribes or scheduled caste persons.',\n",
    "       'Scheduled caste houeholds that worked',\n",
    "       'Total person days worked scheduled caste persons',\n",
    "       'Scheduled tribe houeholds that worked',\n",
    "       'Total person days worked scheduled tribe persons',\n",
    "       'Households that worked on land reform or indira awas yojana',\n",
    "]\n",
    "data = df[features]\n",
    "\n",
    "\n",
    "scaler = MinMaxScaler()\n",
    "scaled_data = scaler.fit_transform(data)\n",
    "\n",
    "# Apply PCA to calculate explained variance\n",
    "pca = PCA()\n",
    "pca.fit(scaled_data)\n",
    "\n",
    "# Calculate the explained variance ratio for each principal component\n",
    "explained_variance_ratio = pca.explained_variance_ratio_\n",
    "\n",
    "# Plot the explained variance ratio\n",
    "plt.figure(figsize=(8, 6))\n",
    "plt.plot(range(1, len(explained_variance_ratio) + 1), np.cumsum(explained_variance_ratio), marker='o', linestyle='-', color='b')\n",
    "plt.xlabel('Number of Principal Components')\n",
    "plt.ylabel('Explained Variance Ratio')\n",
    "plt.title('Explained Variance vs. Number of Principal Components')\n",
    "plt.grid(True)\n",
    "\n",
    "# Show the plot\n",
    "plt.show()"
   ]
  },
  {
   "cell_type": "code",
   "execution_count": null,
   "id": "0bb639f0",
   "metadata": {},
   "outputs": [],
   "source": [
    "\n",
    "# Select the features for dimensionality reduction\n",
    "features = [\n",
    "       'Households that applied for a job card', 'Job cards issued',\n",
    "       'Job cards issued for scheduled caste',\n",
    "       'Job cards issued for scheduled tribes',\n",
    "       'Job cards issued for non scheduled tribes or scheduled caste',\n",
    "       'Households that demanded work', 'Persons who demanded work',\n",
    "       'Households that were allotted work', 'Persons that were allotted work',\n",
    "       'Households that reached a 100 day limit',\n",
    "       'Non scheduled tribes or scheduled caste houeholds that worked',\n",
    "       'Total person days worked by non scheduled tribes or scheduled caste persons.',\n",
    "       'Scheduled caste houeholds that worked',\n",
    "       'Total person days worked scheduled caste persons',\n",
    "       'Scheduled tribe houeholds that worked',\n",
    "       'Total person days worked scheduled tribe persons',\n",
    "       'Households that worked on land reform or indira awas yojana',\n",
    "]\n",
    "data = df[features]\n",
    "\n",
    "scaler = MinMaxScaler()\n",
    "scaled_data = scaler.fit_transform(data)\n",
    "\n",
    "# Apply PCA to reduce dimensionality\n",
    "n_components = 3  # You can adjust the number of components\n",
    "pca = PCA(n_components=n_components)\n",
    "pca_data = pca.fit_transform(scaled_data)\n",
    "\n",
    "explained_variance_ratio = pca.explained_variance_ratio_\n",
    "print(\"Explained Variance Ratios:\", explained_variance_ratio)\n",
    "\n",
    "\n",
    "\n",
    "pca_column_names = [f'PC{i+1}' for i in range(n_components)]\n",
    "pca_df = pd.DataFrame(data=pca_data, columns=pca_column_names)\n",
    "\n",
    "\n"
   ]
  },
  {
   "cell_type": "code",
   "execution_count": null,
   "id": "ee02270f",
   "metadata": {},
   "outputs": [],
   "source": [
    "pca_df"
   ]
  },
  {
   "cell_type": "code",
   "execution_count": null,
   "id": "45c23667",
   "metadata": {},
   "outputs": [],
   "source": [
    "state_label= df.loc[:, df.columns == 'State']"
   ]
  },
  {
   "cell_type": "code",
   "execution_count": null,
   "id": "18aab0ce",
   "metadata": {},
   "outputs": [],
   "source": [
    "state_label"
   ]
  },
  {
   "cell_type": "code",
   "execution_count": null,
   "id": "0b2ec7a6",
   "metadata": {},
   "outputs": [],
   "source": [
    "merged_df = pca_df.merge(state_label, left_index=True, right_index=True)\n",
    "merged_df"
   ]
  },
  {
   "cell_type": "code",
   "execution_count": null,
   "id": "f9731ec0",
   "metadata": {},
   "outputs": [],
   "source": [
    "label_encoder = LabelEncoder()\n",
    "\n",
    "# Encode the 'State' column\n",
    "merged_df['State_Label'] = label_encoder.fit_transform(merged_df['State'])\n",
    "merged_df"
   ]
  },
  {
   "cell_type": "code",
   "execution_count": null,
   "id": "10a282c3",
   "metadata": {},
   "outputs": [],
   "source": [
    "\n",
    "\n",
    "# Now, you can create a scatter plot with the merged DataFrame\n",
    "plt.figure(figsize=(10, 6))\n",
    "plt.scatter(merged_df['PC1'], merged_df['PC2'], c=merged_df['State_Label'], cmap='viridis')\n",
    "plt.title('PCA Plot by State')\n",
    "plt.xlabel('Principal Component 1 (PC1)')\n",
    "plt.ylabel('Principal Component 2 (PC2)')\n",
    "plt.show()\n"
   ]
  },
  {
   "cell_type": "markdown",
   "id": "614ca098",
   "metadata": {},
   "source": [
    "# box-cox transformation\n"
   ]
  },
  {
   "cell_type": "code",
   "execution_count": null,
   "id": "7efe1236",
   "metadata": {},
   "outputs": [],
   "source": [
    "features = [\n",
    "       'Households that applied for a job card', 'Job cards issued',\n",
    "       'Job cards issued for scheduled caste',\n",
    "       'Job cards issued for scheduled tribes',\n",
    "       'Job cards issued for non scheduled tribes or scheduled caste',\n",
    "       'Households that demanded work', 'Persons who demanded work',\n",
    "       'Persons that were allotted work',\n",
    "       'Non scheduled tribes or scheduled caste houeholds that worked',\n",
    "       'Total person days worked by non scheduled tribes or scheduled caste persons.',\n",
    "       'Scheduled caste houeholds that worked',\n",
    "       'Total person days worked scheduled caste persons',\n",
    "       'Scheduled tribe houeholds that worked',\n",
    "       'Total person days worked scheduled tribe persons',\n",
    "       \n",
    "]\n",
    "\n",
    "data = df[features]"
   ]
  },
  {
   "cell_type": "code",
   "execution_count": null,
   "id": "1a86029b",
   "metadata": {},
   "outputs": [],
   "source": [
    "\n",
    "\n",
    "# Loop through each feature and apply the Box-Cox transformation\n",
    "for feature_name in features:\n",
    "    # Apply the Box-Cox transformation to the current feature\n",
    "    transformed_feature, lambda_best_fit = stats.boxcox(data[feature_name] + 1)  # Adding 1 to handle zero or negative values\n",
    "\n",
    "    # Store the transformed feature back in your DataFrame\n",
    "    data[f'transformed_{feature_name}'] = transformed_feature\n",
    "\n",
    "    # Optionally, you can check the lambda value that was chosen\n",
    "    print(f\"Lambda best fit for {feature_name}: {lambda_best_fit}\")\n"
   ]
  },
  {
   "cell_type": "code",
   "execution_count": null,
   "id": "c9fed92c",
   "metadata": {},
   "outputs": [],
   "source": [
    "data.columns"
   ]
  },
  {
   "cell_type": "code",
   "execution_count": null,
   "id": "56e4ffb6",
   "metadata": {},
   "outputs": [],
   "source": [
    "data=data.drop(columns=features)"
   ]
  },
  {
   "cell_type": "code",
   "execution_count": null,
   "id": "9ed4f2c1",
   "metadata": {},
   "outputs": [],
   "source": [
    "data"
   ]
  },
  {
   "cell_type": "markdown",
   "id": "31ce37ec",
   "metadata": {},
   "source": [
    "#### visualizing boxcox"
   ]
  },
  {
   "cell_type": "code",
   "execution_count": null,
   "id": "64620383",
   "metadata": {},
   "outputs": [],
   "source": [
    "\n",
    "\n",
    "# Assuming 'your_column' is the name of the column you want to plot\n",
    "col = df['Households that applied for a job card']\n",
    "\n",
    "# Create a scatter plot\n",
    "plt.scatter(range(len(col)), col, alpha=0.5)\n",
    "plt.xlabel('Index')\n",
    "plt.ylabel('Your Column Name')\n",
    "plt.title('Scatter Plot of Original Col')\n",
    "plt.show()\n"
   ]
  },
  {
   "cell_type": "code",
   "execution_count": null,
   "id": "d1d8d56e",
   "metadata": {},
   "outputs": [],
   "source": [
    "col = data['transformed_Households that applied for a job card']\n",
    "\n",
    "# Create a scatter plot\n",
    "plt.scatter(range(len(col)), col, alpha=0.5)\n",
    "plt.xlabel('Index')\n",
    "plt.ylabel('Your Column Name')\n",
    "plt.title('Scatter Plot After box cox')\n",
    "plt.show()"
   ]
  },
  {
   "cell_type": "code",
   "execution_count": null,
   "id": "d576d8e9",
   "metadata": {},
   "outputs": [],
   "source": [
    "n_components = 3  # You can adjust the number of components\n",
    "pca = PCA(n_components=n_components)\n",
    "pca_data = pca.fit_transform(data)\n",
    "\n",
    "explained_variance_ratio = pca.explained_variance_ratio_\n",
    "print(\"Explained Variance Ratios:\", explained_variance_ratio)\n"
   ]
  },
  {
   "cell_type": "code",
   "execution_count": null,
   "id": "e20f1024",
   "metadata": {},
   "outputs": [],
   "source": [
    "pca_data"
   ]
  },
  {
   "cell_type": "code",
   "execution_count": null,
   "id": "0923232e",
   "metadata": {},
   "outputs": [],
   "source": [
    "pca_column_names = [f'PC{i+1}' for i in range(n_components)]\n",
    "pca_df = pd.DataFrame(data=pca_data, columns=pca_column_names)\n"
   ]
  },
  {
   "cell_type": "code",
   "execution_count": null,
   "id": "7ef93be8",
   "metadata": {},
   "outputs": [],
   "source": [
    "pca_df"
   ]
  },
  {
   "cell_type": "code",
   "execution_count": null,
   "id": "917310e2",
   "metadata": {},
   "outputs": [],
   "source": [
    "pca_df = pd.concat([pca_df, df['State lgd code']], axis=1)\n",
    "pca_df"
   ]
  },
  {
   "cell_type": "code",
   "execution_count": null,
   "id": "483528f7",
   "metadata": {},
   "outputs": [],
   "source": [
    "plt.figure(figsize=(10, 6))\n",
    "plt.scatter(pca_df['PC1'], pca_df['PC2'], c=pca_df['State lgd code'], cmap='viridis')\n",
    "plt.title('PCA Plot by State')\n",
    "plt.xlabel('Principal Component 1 (PC1)')\n",
    "plt.ylabel('Principal Component 2 (PC2)')\n",
    "plt.show()"
   ]
  },
  {
   "cell_type": "markdown",
   "id": "98cb11d6",
   "metadata": {},
   "source": [
    "## Log transformation"
   ]
  },
  {
   "cell_type": "code",
   "execution_count": null,
   "id": "98128e10",
   "metadata": {},
   "outputs": [],
   "source": [
    "data"
   ]
  },
  {
   "cell_type": "code",
   "execution_count": null,
   "id": "7fdcd50d",
   "metadata": {},
   "outputs": [],
   "source": [
    "features = ['Households that applied for a job card', 'Job cards issued',\n",
    "       'Job cards issued for scheduled caste',\n",
    "       'Job cards issued for scheduled tribes',\n",
    "       'Job cards issued for non scheduled tribes or scheduled caste',\n",
    "       'Households that demanded work', 'Persons who demanded work',\n",
    "       'Households that were allotted work', 'Persons that were allotted work',\n",
    "       'Muster rolls filled',\n",
    "       'Households that worked under mahatma gandhi national rural employment guarantee act (mgnrega)',\n",
    "       'Persons that worked under mahatma gandhi national rural employment guarantee act (mgnrega)',\n",
    "       'Households that reached a 100 day limit', 'Persons with disability',\n",
    "       'Non scheduled tribes or scheduled caste houeholds that worked',\n",
    "       'Total person days worked by non scheduled tribes or scheduled caste persons.',\n",
    "       'Scheduled caste houeholds that worked',\n",
    "       'Total person days worked scheduled caste persons',\n",
    "       'Scheduled tribe houeholds that worked',\n",
    "       'Total person days worked scheduled tribe persons',\n",
    "       'Households that worked on land reform or indira awas yojana',\n",
    "       'Total person days worked by women', 'Total person days',\n",
    "       'Scheduled caste households that reached a 100 day limit',\n",
    "       'Scheduled tribe households that reached a 100 day limit',\n",
    "       'Labour expenditure that has been disbursed',\n",
    "       'Material expenditure that has been disbursed',\n",
    "       'Labour expenditure both disbursed and pending',\n",
    "       'Material expenditure both disbursed and pending', 'Amount sanctioned',\n",
    "       'Works under mahatma gandhi national rural employment guarantee act (mgnrega)',\n",
    "       'Total bank accounts', 'Individual bank accounts',\n",
    "       'Joint bank accounts', 'Amount disbursed to bank accounts',\n",
    "       'Post office accounts', 'Individual post office accounts',\n",
    "       'Joint post office accounts',\n",
    "       'Amount disbursed to post office accounts']\n",
    "\n",
    "data_for_log = df[features]\n",
    "\n",
    "data_for_log"
   ]
  },
  {
   "cell_type": "code",
   "execution_count": null,
   "id": "05e30742",
   "metadata": {},
   "outputs": [],
   "source": [
    "# Log transformation for multiple columns\n",
    "for column in data_for_log.columns:\n",
    "#     if column.startswith('Values'):  # You can specify which columns to transform\n",
    "    data_for_log[f'{column}_Log'] = np.log(data_for_log[column]+1)\n",
    "\n",
    "# Display the DataFrame with the log-transformed columns\n",
    "print(data_for_log)\n"
   ]
  },
  {
   "cell_type": "code",
   "execution_count": null,
   "id": "9cba421e",
   "metadata": {},
   "outputs": [],
   "source": [
    "data_for_log=data_for_log.drop(columns =features)"
   ]
  },
  {
   "cell_type": "code",
   "execution_count": null,
   "id": "07edf0e7",
   "metadata": {},
   "outputs": [],
   "source": [
    "data_for_log"
   ]
  },
  {
   "cell_type": "code",
   "execution_count": null,
   "id": "623d9469",
   "metadata": {},
   "outputs": [],
   "source": [
    "for column in data_for_log.columns:\n",
    "    plt.figure()\n",
    "    plt.hist(data_for_log[column], bins=10, edgecolor='k')\n",
    "    plt.title(f'Histogram of {column}')\n",
    "    plt.xlabel(column)\n",
    "    plt.ylabel('Frequency')\n",
    "\n",
    "plt.show()\n"
   ]
  },
  {
   "cell_type": "code",
   "execution_count": null,
   "id": "6cae37ac",
   "metadata": {},
   "outputs": [],
   "source": [
    "n_components = 3  # You can adjust the number of components\n",
    "pca = PCA(n_components=n_components)\n",
    "pca_data = pca.fit_transform(data_for_log)\n",
    "\n",
    "explained_variance_ratio = pca.explained_variance_ratio_\n",
    "print(\"Explained Variance Ratios:\", explained_variance_ratio)"
   ]
  },
  {
   "cell_type": "code",
   "execution_count": null,
   "id": "4626d10e",
   "metadata": {},
   "outputs": [],
   "source": [
    "pca_column_names = [f'PC{i+1}' for i in range(n_components)]\n",
    "pca_df = pd.DataFrame(data=pca_data, columns=pca_column_names)\n",
    "pca_df"
   ]
  },
  {
   "cell_type": "code",
   "execution_count": null,
   "id": "212456a3",
   "metadata": {},
   "outputs": [],
   "source": [
    "plt.figure(figsize=(10, 6))\n",
    "plt.scatter(pca_df['PC1'], pca_df['PC2'], c=df['State lgd code'], cmap='viridis')\n",
    "plt.title('PCA Plot by State')\n",
    "plt.xlabel('Principal Component 1 (PC1)')\n",
    "plt.ylabel('Principal Component 2 (PC2)')\n",
    "plt.show()"
   ]
  },
  {
   "cell_type": "code",
   "execution_count": null,
   "id": "6ac8ad7c",
   "metadata": {},
   "outputs": [],
   "source": [
    "data_for_log"
   ]
  },
  {
   "cell_type": "markdown",
   "id": "b15ed32f",
   "metadata": {},
   "source": [
    "# 2d for nC2"
   ]
  },
  {
   "cell_type": "code",
   "execution_count": null,
   "id": "948b6c59",
   "metadata": {},
   "outputs": [],
   "source": [
    "import itertools\n",
    "feature_columns = data_for_log.columns\n",
    "\n",
    "# Generate scatter plots for all combinations of two features\n",
    "combinations = list(itertools.combinations(feature_columns, 2))\n",
    "\n",
    "for combo in combinations:\n",
    "    x_column, y_column = combo\n",
    "\n",
    "    # Create the scatter plot\n",
    "    plt.scatter(data_for_log[x_column],data_for_log[y_column], alpha=0.5)\n",
    "    plt.xlabel(x_column)\n",
    "    plt.ylabel(y_column)\n",
    "    plt.title(f'Scatter Plot: {x_column} vs {y_column}')\n",
    "    plt.grid(True)\n",
    "\n",
    "    # Show the plot or save it to a file if needed\n",
    "    plt.show()"
   ]
  },
  {
   "cell_type": "code",
   "execution_count": null,
   "id": "2f9be7f1",
   "metadata": {},
   "outputs": [],
   "source": [
    "data_for_log.columns"
   ]
  },
  {
   "cell_type": "code",
   "execution_count": null,
   "id": "cac37ae9",
   "metadata": {},
   "outputs": [],
   "source": [
    "import plotly.express as px\n",
    "\n",
    "# Create an interactive 3D scatter plot with hover information\n",
    "fig = px.scatter_3d(\n",
    "    merged_df,\n",
    "    x='PC1',\n",
    "    y='PC2',\n",
    "    z='PC3',\n",
    "    color='State',\n",
    "    title='Interactive 3D Scatter Plot of PCA Components Colored by State',\n",
    "    labels={'PC1': 'PCA 1', 'PC2': 'PCA 2', 'PC3': 'PCA 3'},\n",
    "    hover_data={'PC1': True, 'PC2': True, 'PC3': True, 'State': True}\n",
    ")\n",
    "\n",
    "# Show the interactive plot\n",
    "fig.show()\n"
   ]
  },
  {
   "cell_type": "markdown",
   "id": "c6097b6f",
   "metadata": {},
   "source": [
    "#### PCA OBJ2 working for another objective but it failed due to no results could be found out from the data"
   ]
  },
  {
   "cell_type": "code",
   "execution_count": null,
   "id": "20fc65de",
   "metadata": {},
   "outputs": [],
   "source": [
    "## PLEASE Run the cell to seee the plot as it is interactive plot\n",
    "\n",
    "fig = px.scatter_3d(\n",
    "    df,\n",
    "    x=\"State\",\n",
    "    y=\"Job cards issued\",\n",
    "    z=\"Job cards issued for scheduled caste\",\n",
    "#     text=\"State\",  # Text to display when hovering\n",
    "    title=\"3D Scatter Plot of Job Card Issued vs State\",\n",
    ")\n",
    "\n",
    "# Customize the layout\n",
    "fig.update_layout(scene=dict(xaxis_title=\"State\", yaxis_title=\"Job card issued\", zaxis_title=\"Job card issued for scheduled caste\"))\n",
    "\n",
    "# Show the interactive plot\n",
    "fig.show()\n"
   ]
  },
  {
   "cell_type": "code",
   "execution_count": null,
   "id": "e115276c",
   "metadata": {},
   "outputs": [],
   "source": [
    "df.columns"
   ]
  },
  {
   "cell_type": "code",
   "execution_count": null,
   "id": "d4037787",
   "metadata": {},
   "outputs": [],
   "source": [
    "cluster_columns = ['Job cards issued', 'Job cards issued for scheduled caste']\n",
    "\n",
    "# Subset the data with the selected columns\n",
    "data1 = df[['State lgd code'] + cluster_columns]\n",
    "\n",
    "# Standardize the data (scaling)\n",
    "scaler = StandardScaler()\n",
    "scaled_data = scaler.fit_transform(data)\n",
    "\n",
    "# Choose the number of clusters (K)\n",
    "k = 3  # You can adjust this value\n",
    "\n",
    "# Apply K-Means clustering\n",
    "kmeans = KMeans(n_clusters=k, random_state=0)\n",
    "data['Cluster'] = kmeans.fit_predict(scaled_data)\n",
    "\n",
    "# The 'Cluster' column now contains the cluster labels for each row\n",
    "\n",
    "# You can also access the cluster centers:\n",
    "cluster_centers = kmeans.cluster_centers_\n"
   ]
  },
  {
   "cell_type": "code",
   "execution_count": null,
   "id": "4dfeec47",
   "metadata": {},
   "outputs": [],
   "source": [
    "data1"
   ]
  },
  {
   "cell_type": "code",
   "execution_count": null,
   "id": "960f4a26",
   "metadata": {},
   "outputs": [],
   "source": [
    "import matplotlib.pyplot as plt\n",
    "\n",
    "# Create a scatter plot\n",
    "plt.figure(figsize=(10, 6))\n",
    "plt.scatter(data1['Job cards issued'], data1['Job cards issued for scheduled caste'], c=data['Cluster'], cmap='viridis')\n",
    "plt.title('K-Means Clustering')\n",
    "plt.xlabel('Job card issued')\n",
    "plt.ylabel('Job card issued for scheduled caste')\n",
    "\n",
    "# Show the plot\n",
    "plt.show()\n"
   ]
  },
  {
   "cell_type": "code",
   "execution_count": null,
   "id": "16ed175e",
   "metadata": {},
   "outputs": [],
   "source": [
    "# Standardize the data\n",
    "scaler = StandardScaler()\n",
    "scaled_data = scaler.fit_transform(data)\n",
    "\n",
    "# Apply PCA to calculate explained variance\n",
    "pca = PCA()\n",
    "pca.fit(scaled_data)\n",
    "\n",
    "# Calculate the explained variance ratio for each principal component\n",
    "explained_variance_ratio = pca.explained_variance_ratio_\n",
    "\n",
    "# Plot the explained variance ratio\n",
    "plt.figure(figsize=(8, 6))\n",
    "plt.plot(range(1, len(explained_variance_ratio) + 1), np.cumsum(explained_variance_ratio), marker='o', linestyle='-', color='b')\n",
    "plt.xlabel('Number of Principal Components')\n",
    "plt.ylabel('Explained Variance Ratio')\n",
    "plt.title('Explained Variance vs. Number of Principal Components')\n",
    "plt.grid(True)\n",
    "\n",
    "# Show the plot\n",
    "plt.show()\n"
   ]
  },
  {
   "cell_type": "code",
   "execution_count": null,
   "id": "b8d1771d",
   "metadata": {
    "scrolled": true
   },
   "outputs": [],
   "source": [
    "pca_df"
   ]
  },
  {
   "cell_type": "code",
   "execution_count": null,
   "id": "5af75f3e",
   "metadata": {},
   "outputs": [],
   "source": [
    "plt.figure(figsize=(10, 6))\n",
    "plt.scatter(pca_df['PC1'], pca_df['PC2'], c=df['State lgd code'], cmap='viridis')\n",
    "plt.title('PCA Plot by State')\n",
    "plt.xlabel('Principal Component 1 (PC1)')\n",
    "plt.ylabel('Principal Component 2 (PC2)')\n",
    "plt.show()\n"
   ]
  },
  {
   "cell_type": "markdown",
   "id": "5e31a7ad",
   "metadata": {},
   "source": [
    "# MDS [Multi DImensional Scaling]"
   ]
  },
  {
   "cell_type": "code",
   "execution_count": null,
   "id": "93c04fd1",
   "metadata": {},
   "outputs": [],
   "source": [
    "from sklearn.manifold import MDS\n",
    "from sklearn import datasets\n",
    "from sklearn.metrics.pairwise import manhattan_distances, euclidean_distances\n",
    "from matplotlib.offsetbox import OffsetImage, AnnotationBbox"
   ]
  },
  {
   "cell_type": "code",
   "execution_count": null,
   "id": "febfa3e2",
   "metadata": {},
   "outputs": [],
   "source": [
    "features=['Households that applied for a job card', 'Job cards issued',\n",
    "       'Job cards issued for scheduled caste',\n",
    "       'Job cards issued for scheduled tribes',\n",
    "       'Job cards issued for non scheduled tribes or scheduled caste',\n",
    "       'Households that demanded work', 'Persons who demanded work',\n",
    "       'Households that were allotted work', 'Persons that were allotted work',\n",
    "       'Muster rolls filled',\n",
    "       'Households that worked under mahatma gandhi national rural employment guarantee act (mgnrega)',\n",
    "       'Persons that worked under mahatma gandhi national rural employment guarantee act (mgnrega)',\n",
    "       'Households that reached a 100 day limit', 'Persons with disability',\n",
    "       'Non scheduled tribes or scheduled caste houeholds that worked',\n",
    "       'Total person days worked by non scheduled tribes or scheduled caste persons.',\n",
    "       'Scheduled caste houeholds that worked',\n",
    "       'Total person days worked scheduled caste persons',\n",
    "       'Scheduled tribe houeholds that worked',\n",
    "       'Total person days worked scheduled tribe persons',\n",
    "       'Households that worked on land reform or indira awas yojana',\n",
    "       'Total person days worked by women', 'Total person days',\n",
    "       'Scheduled caste households that reached a 100 day limit',\n",
    "       'Scheduled tribe households that reached a 100 day limit',\n",
    "       'Labour expenditure that has been disbursed',\n",
    "       'Material expenditure that has been disbursed',\n",
    "       'Labour expenditure both disbursed and pending',\n",
    "       'Material expenditure both disbursed and pending', 'Amount sanctioned',\n",
    "       'Works under mahatma gandhi national rural employment guarantee act (mgnrega)',\n",
    "       'Total bank accounts', 'Individual bank accounts',\n",
    "       'Joint bank accounts', 'Amount disbursed to bank accounts',\n",
    "       'Post office accounts', 'Individual post office accounts',\n",
    "       'Joint post office accounts',\n",
    "       'Amount disbursed to post office accounts']\n",
    "\n",
    "data = df[features]"
   ]
  },
  {
   "cell_type": "code",
   "execution_count": null,
   "id": "a2208ad4",
   "metadata": {},
   "outputs": [],
   "source": [
    "data"
   ]
  },
  {
   "cell_type": "code",
   "execution_count": null,
   "id": "04c45812",
   "metadata": {},
   "outputs": [],
   "source": [
    "state_label"
   ]
  },
  {
   "cell_type": "code",
   "execution_count": null,
   "id": "4f43bdcd",
   "metadata": {},
   "outputs": [],
   "source": [
    "# Took so much of time to run\n",
    "model = MDS(n_components=3)\n",
    "Y = model.fit_transform(data)"
   ]
  },
  {
   "cell_type": "code",
   "execution_count": null,
   "id": "6b0b1cd0",
   "metadata": {},
   "outputs": [],
   "source": [
    "# state_label= data.loc[:, data.columns == 'State']"
   ]
  },
  {
   "cell_type": "code",
   "execution_count": null,
   "id": "b87219a5",
   "metadata": {},
   "outputs": [],
   "source": [
    "plt.figure(figsize=(10,5))\n",
    "plt.subplot(1,2,1)\n",
    "plt.scatter(Y[:, 0], Y[:, 1], c='black', s=30)\n",
    "plt.title('Metric MDS', size=20)\n",
    "for i in range(len(state_label)):\n",
    "    plt.text(Y[i][0]+0.02, Y[i][1]+0.02, s= state_label.iloc[i].values, size=10)"
   ]
  },
  {
   "cell_type": "code",
   "execution_count": null,
   "id": "45fdc27c",
   "metadata": {},
   "outputs": [],
   "source": [
    "model = MDS(n_components=2, metric = False)\n",
    "Y = model.fit_transform(data)\n",
    "\n",
    "plt.figure(figsize=(10,5))\n",
    "plt.subplot(1,2,1)\n",
    "plt.scatter(Y[:, 0], Y[:, 1], c='black', s=30)\n",
    "plt.title('Non-metric MDS', size=20)\n",
    "for i in range(len(state_label)):\n",
    "    plt.text(Y[i][0]+0.02, Y[i][1]+0.02, s= state_label.iloc[i].values, size=10)"
   ]
  },
  {
   "cell_type": "markdown",
   "id": "c7ac29d6",
   "metadata": {},
   "source": [
    "## TSNE"
   ]
  },
  {
   "cell_type": "code",
   "execution_count": null,
   "id": "44e9ce60",
   "metadata": {},
   "outputs": [],
   "source": [
    "df.columns"
   ]
  },
  {
   "cell_type": "code",
   "execution_count": null,
   "id": "3e0aab0c",
   "metadata": {},
   "outputs": [],
   "source": [
    "\n",
    "data.columns\n",
    "scaler = StandardScaler()\n",
    "scaled_data = scaler.fit_transform(data)\n"
   ]
  },
  {
   "cell_type": "code",
   "execution_count": null,
   "id": "78adb021",
   "metadata": {},
   "outputs": [],
   "source": [
    "from sklearn.manifold import TSNE\n",
    "\n",
    "tsne = TSNE(n_components=2, random_state=42)\n",
    "tsne_result = tsne.fit_transform(scaled_data)\n"
   ]
  },
  {
   "cell_type": "code",
   "execution_count": null,
   "id": "f6f99c63",
   "metadata": {},
   "outputs": [],
   "source": [
    "import matplotlib.pyplot as plt\n",
    "\n",
    "# Assuming 'labels' contains your target labels (if available)\n",
    "plt.scatter(tsne_result[:, 0], tsne_result[:, 1],cmap='viridis')\n",
    "plt.title('t-SNE Visualization')\n",
    "plt.xlabel('Dimension 1')\n",
    "plt.ylabel('Dimension 2')\n",
    "plt.colorbar()\n",
    "plt.show()\n"
   ]
  },
  {
   "cell_type": "code",
   "execution_count": null,
   "id": "366bcb47",
   "metadata": {},
   "outputs": [],
   "source": [
    "tsne = TSNE(n_components=3, random_state=42)\n",
    "tsne_result = tsne.fit_transform(scaled_data)\n"
   ]
  },
  {
   "cell_type": "code",
   "execution_count": null,
   "id": "b19edb10",
   "metadata": {},
   "outputs": [],
   "source": [
    "tsne_result"
   ]
  },
  {
   "cell_type": "code",
   "execution_count": null,
   "id": "392741a2",
   "metadata": {},
   "outputs": [],
   "source": [
    "fig = px.scatter_3d(tsne_result,x = tsne_result[:, 0], y = tsne_result[:, 1], z = tsne_result[:, 2])\n",
    "\n",
    "# Customize the layout if needed\n",
    "fig.update_layout(\n",
    "    scene=dict(\n",
    "        xaxis_title='Feature 1',\n",
    "        yaxis_title='Feature 2',\n",
    "        zaxis_title='Feature 3'\n",
    "    )\n",
    ")\n",
    "\n",
    "# Show plot\n",
    "fig.show()"
   ]
  },
  {
   "cell_type": "code",
   "execution_count": null,
   "id": "a39389f1",
   "metadata": {},
   "outputs": [],
   "source": [
    "data_for_log"
   ]
  },
  {
   "cell_type": "code",
   "execution_count": null,
   "id": "7fbd824b",
   "metadata": {},
   "outputs": [],
   "source": [
    "tsne = TSNE(n_components=3, random_state=42)\n",
    "tsne_result = tsne.fit_transform(data_for_log)\n"
   ]
  },
  {
   "cell_type": "code",
   "execution_count": null,
   "id": "d1b0ae58",
   "metadata": {},
   "outputs": [],
   "source": [
    "fig = px.scatter_3d(tsne_result,x = tsne_result[:, 0], y = tsne_result[:, 1], z = tsne_result[:, 2])\n",
    "\n",
    "# Customize the layout if needed\n",
    "fig.update_layout(\n",
    "    scene=dict(\n",
    "        xaxis_title='Feature 1',\n",
    "        yaxis_title='Feature 2',\n",
    "        zaxis_title='Feature 3'\n",
    "    )\n",
    ")\n",
    "\n",
    "# Show plot\n",
    "fig.show()"
   ]
  },
  {
   "cell_type": "code",
   "execution_count": null,
   "id": "5b7c34fb",
   "metadata": {},
   "outputs": [],
   "source": [
    "tsne = TSNE(n_components=2, random_state=42)\n",
    "tsne_result = tsne.fit_transform(data_for_log)"
   ]
  },
  {
   "cell_type": "code",
   "execution_count": null,
   "id": "7ae45f2e",
   "metadata": {},
   "outputs": [],
   "source": [
    "import matplotlib.pyplot as plt\n",
    "\n",
    "# Assuming 'labels' contains your target labels (if available)\n",
    "plt.scatter(tsne_result[:, 0], tsne_result[:, 1],cmap='viridis')\n",
    "plt.title('t-SNE Visualization')\n",
    "plt.xlabel('Dimension 1')\n",
    "plt.ylabel('Dimension 2')\n",
    "plt.colorbar()\n",
    "plt.show()"
   ]
  },
  {
   "cell_type": "code",
   "execution_count": null,
   "id": "4cf9e8d3",
   "metadata": {},
   "outputs": [],
   "source": [
    "data_for_log['State lgd code'] = df['State lgd code']"
   ]
  },
  {
   "cell_type": "code",
   "execution_count": null,
   "id": "cc41d821",
   "metadata": {},
   "outputs": [],
   "source": [
    "data_for_log"
   ]
  },
  {
   "cell_type": "code",
   "execution_count": null,
   "id": "5353a7aa",
   "metadata": {},
   "outputs": [],
   "source": [
    "tsne = TSNE(n_components=2, random_state=42)\n",
    "tsne_result = tsne.fit_transform(data_for_log)"
   ]
  },
  {
   "cell_type": "code",
   "execution_count": null,
   "id": "309655dd",
   "metadata": {},
   "outputs": [],
   "source": [
    "tsne_data = tsne_result"
   ]
  },
  {
   "cell_type": "code",
   "execution_count": null,
   "id": "4591589e",
   "metadata": {},
   "outputs": [],
   "source": [
    "tsne_data"
   ]
  },
  {
   "cell_type": "code",
   "execution_count": null,
   "id": "105266c8",
   "metadata": {},
   "outputs": [],
   "source": [
    "\n",
    "fig = px.scatter(\n",
    "    x=tsne_data[:, 0],\n",
    "    y=tsne_data[:, 1],\n",
    "#     z=tsne_data[:, 2],\n",
    "    color=df['State lgd code'],  \n",
    "    hover_name=df['State'],\n",
    "    title='t-SNE Visualization with Encoded States'\n",
    ")\n",
    "fig.show()"
   ]
  },
  {
   "cell_type": "markdown",
   "id": "996829a9",
   "metadata": {},
   "source": [
    "## Plotting mean of each state"
   ]
  },
  {
   "cell_type": "code",
   "execution_count": null,
   "id": "cc190155",
   "metadata": {},
   "outputs": [],
   "source": [
    "tsne_df = pd.DataFrame(tsne_data, columns=['Component_1', 'Component_2'])\n",
    "tsne_df['State'] = df['State']  # Append the 'State' column to the t-SNE DataFrame\n",
    "tsne_df['State lgd code'] = df['State lgd code']  # Assuming 'State_Code' contains state codes\n",
    "\n",
    "# Calculate the mean of t-SNE-transformed data grouped by state\n",
    "mean_tsne = tsne_df.groupby('State').mean().reset_index()\n",
    "\n",
    "# Plotting the mean values of t-SNE-transformed data for each state\n",
    "fig = px.scatter(\n",
    "    mean_tsne,\n",
    "    x='Component_1',\n",
    "    y='Component_2',\n",
    "    color='State',\n",
    "    title='Mean t-SNE Values by State (2D)',\n",
    "#     labels={'Component_1': 'Mean Component 1', 'Component_2': 'Mean Component 2'}\n",
    ")\n",
    "\n",
    "# Show the plot\n",
    "fig.show()"
   ]
  },
  {
   "cell_type": "code",
   "execution_count": null,
   "id": "cd760e34",
   "metadata": {},
   "outputs": [],
   "source": []
  },
  {
   "cell_type": "code",
   "execution_count": null,
   "id": "094d66f3",
   "metadata": {},
   "outputs": [],
   "source": [
    "mean_tsne"
   ]
  },
  {
   "cell_type": "code",
   "execution_count": null,
   "id": "d6860555",
   "metadata": {},
   "outputs": [],
   "source": [
    "mean_tsne.to_csv('mean_tsne.csv')"
   ]
  },
  {
   "cell_type": "markdown",
   "id": "a193eea9",
   "metadata": {},
   "source": [
    "## Plotting mean of district wise"
   ]
  },
  {
   "cell_type": "code",
   "execution_count": null,
   "id": "ce6a528c",
   "metadata": {},
   "outputs": [],
   "source": [
    "tsne_df = pd.DataFrame(tsne_data, columns=['Component_1', 'Component_2'])\n",
    "# tsne_df['State'] = df['State']  # Append the 'State' column to the t-SNE DataFrame\n",
    "tsne_df['District'] = df['District']  # Append the 'State' column to the t-SNE DataFrame\n",
    "\n",
    "# tsne_df = pd.DataFrame(tsne_data, columns=['Component_1', 'Component_2'])\n",
    "# tsne_df['State'] = df['State']  # Append the 'State' column to the t-SNE DataFrame\n",
    "# tsne_df['State lgd code'] = df['State lgd code']  # Assuming 'State_Code' contains state codes\n",
    "\n",
    "# mean_tsne = tsne_df.groupby('State').mean().reset_index()\n",
    "\n",
    "mean_tsne_district = tsne_df.groupby('District').mean().reset_index()\n",
    "print(mean_tsne_district)"
   ]
  },
  {
   "cell_type": "code",
   "execution_count": null,
   "id": "07cae2f5",
   "metadata": {},
   "outputs": [],
   "source": [
    "mean_tsne_district"
   ]
  },
  {
   "cell_type": "code",
   "execution_count": null,
   "id": "74836317",
   "metadata": {},
   "outputs": [],
   "source": [
    "# Plotting the mean values of t-SNE-transformed data for each state\n",
    "fig = px.scatter(\n",
    "    mean_tsne_district,\n",
    "    x='Component_1',\n",
    "    y='Component_2',\n",
    "    color='District',\n",
    "    title='Mean t-SNE Values by State (2D)',\n",
    "    labels={'Component_1': 'Mean Component 1', 'Component_2': 'Mean Component 2'}\n",
    ")\n",
    "\n",
    "# Show the plot\n",
    "fig.show()"
   ]
  },
  {
   "cell_type": "code",
   "execution_count": null,
   "id": "9346b292",
   "metadata": {},
   "outputs": [],
   "source": [
    "mean_tsne_district.to_csv('mean_tsne_district.csv',index = False)"
   ]
  },
  {
   "cell_type": "code",
   "execution_count": null,
   "id": "9d96d811",
   "metadata": {},
   "outputs": [],
   "source": []
  }
 ],
 "metadata": {
  "kernelspec": {
   "display_name": "Python 3 (ipykernel)",
   "language": "python",
   "name": "python3"
  },
  "language_info": {
   "codemirror_mode": {
    "name": "ipython",
    "version": 3
   },
   "file_extension": ".py",
   "mimetype": "text/x-python",
   "name": "python",
   "nbconvert_exporter": "python",
   "pygments_lexer": "ipython3",
   "version": "3.9.13"
  }
 },
 "nbformat": 4,
 "nbformat_minor": 5
}
